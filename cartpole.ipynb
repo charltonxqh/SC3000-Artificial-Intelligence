{
  "cells": [
    {
      "cell_type": "markdown",
      "metadata": {
        "id": "ZauhjPSfX7pI"
      },
      "source": [
        "# 24S2 SC3000/CZ3005 Assignment 1: Balancing a Pole on a Cart"
      ]
    },
    {
      "cell_type": "markdown",
      "metadata": {
        "id": "RwKbYeTgbaTA"
      },
      "source": [
        "## Importing dependencies and define helper functions"
      ]
    },
    {
      "cell_type": "code",
      "execution_count": 31,
      "metadata": {
        "id": "j6KpgCLGYWmj"
      },
      "outputs": [],
      "source": [
        "import gym\n",
        "from gym import logger as gymlogger\n",
        "from gym.wrappers import RecordVideo\n",
        "gymlogger.set_level(40) #error only\n",
        "import tensorflow as tf\n",
        "import numpy as np\n",
        "import random\n",
        "import matplotlib\n",
        "import matplotlib.pyplot as plt\n",
        "%matplotlib inline\n",
        "import math\n",
        "import glob\n",
        "import io\n",
        "import base64\n",
        "from IPython.display import HTML\n",
        "from IPython import display as ipythondisplay\n",
        "from collections import defaultdict"
      ]
    },
    {
      "cell_type": "code",
      "execution_count": 4,
      "metadata": {},
      "outputs": [],
      "source": [
        "def show_video():\n",
        "  mp4list = glob.glob('video/*.mp4')\n",
        "  if len(mp4list) > 0:\n",
        "    mp4 = mp4list[0]\n",
        "    video = io.open(mp4, 'r+b').read()\n",
        "    encoded = base64.b64encode(video)\n",
        "    ipythondisplay.display(HTML(data='''<video alt=\"test\" autoplay \n",
        "                loop controls style=\"height: 400px;\">\n",
        "                <source src=\"data:video/mp4;base64,{0}\" type=\"video/mp4\" />\n",
        "             </video>'''.format(encoded.decode('ascii'))))\n",
        "  else: \n",
        "    print(\"Could not find video\")"
      ]
    },
    {
      "cell_type": "markdown",
      "metadata": {
        "id": "ehbqP9CXbmo7"
      },
      "source": [
        "## Tutorial: Loading CartPole environment"
      ]
    },
    {
      "cell_type": "code",
      "execution_count": 23,
      "metadata": {
        "id": "Go12dH4qbwBy"
      },
      "outputs": [],
      "source": [
        "env = gym.make(\"CartPole-v1\")"
      ]
    },
    {
      "cell_type": "markdown",
      "metadata": {
        "id": "9XZ9g3xrcAXE"
      },
      "source": [
        "We can check the action and observation space of this environment. Discrete(2) means that there are two valid discrete actions: 0 & 1."
      ]
    },
    {
      "cell_type": "code",
      "execution_count": 24,
      "metadata": {
        "colab": {
          "base_uri": "https://localhost:8080/"
        },
        "id": "ytxvVmLdcRyw",
        "outputId": "1ce07099-492b-4126-a792-8ff12d79c2db"
      },
      "outputs": [
        {
          "name": "stdout",
          "output_type": "stream",
          "text": [
            "Discrete(2)\n"
          ]
        }
      ],
      "source": [
        "print(env.action_space)"
      ]
    },
    {
      "cell_type": "markdown",
      "metadata": {
        "id": "pVXGWi_Ncfg-"
      },
      "source": [
        "The observation space is given below. The first two arrays define the min and max values of the 4 observed values, corresponding to cart position, velocity and pole angle, angular velocity."
      ]
    },
    {
      "cell_type": "code",
      "execution_count": 25,
      "metadata": {
        "colab": {
          "base_uri": "https://localhost:8080/"
        },
        "id": "DyqHr9I5cdkX",
        "outputId": "369a0733-e7c0-4bca-b427-5e1c603ff074"
      },
      "outputs": [
        {
          "name": "stdout",
          "output_type": "stream",
          "text": [
            "Box([-4.8000002e+00 -3.4028235e+38 -4.1887903e-01 -3.4028235e+38], [4.8000002e+00 3.4028235e+38 4.1887903e-01 3.4028235e+38], (4,), float32)\n"
          ]
        }
      ],
      "source": [
        "print(env.observation_space)"
      ]
    },
    {
      "cell_type": "markdown",
      "metadata": {
        "id": "HFOdaU2Gdyg0"
      },
      "source": [
        "We call each round of the pole-balancing game an \"episode\". At the start of each episode, make sure the environment is reset, which chooses a random initial state, e.g., pole slightly tilted to the right. This initialization can be achieved by the code below, which returns the observation of the initial state."
      ]
    },
    {
      "cell_type": "code",
      "execution_count": 26,
      "metadata": {
        "colab": {
          "base_uri": "https://localhost:8080/"
        },
        "id": "VMr6qAqxdOsm",
        "outputId": "0e35ee3b-15d0-4e1f-926c-194a5a43f830"
      },
      "outputs": [
        {
          "name": "stdout",
          "output_type": "stream",
          "text": [
            "Initial observations: (array([ 0.02275278,  0.02922267, -0.00081343, -0.04897029], dtype=float32), {})\n"
          ]
        }
      ],
      "source": [
        "observation = env.reset()\n",
        "print(\"Initial observations:\", observation)"
      ]
    },
    {
      "cell_type": "markdown",
      "metadata": {
        "id": "qnG2QdfbeZrI"
      },
      "source": [
        "For the CartPole environment, there are two possible actions: 0 for pushing to the left and 1 for pushing to the right. For example, we can push the cart to the left using code below, which returns the new observation, the current reward, an indicator of whether the game ends, and some additional information (not used in this project). For CartPole, the game ends when the pole is significantly tilted or you manage to balance the pole for 500 steps. You get exactly 1 reward for each step before the game ends (i.e., max cumulative reward is 500)."
      ]
    },
    {
      "cell_type": "code",
      "execution_count": 27,
      "metadata": {
        "colab": {
          "base_uri": "https://localhost:8080/"
        },
        "id": "MmfMDvyYdWGk",
        "outputId": "fa12ffd8-6707-4cbc-fb86-aef8484d5d17"
      },
      "outputs": [
        {
          "name": "stdout",
          "output_type": "stream",
          "text": [
            "New observations after choosing action 0: [ 0.02333724 -0.16588761 -0.00179284  0.24345587]\n",
            "Reward for this step: 1.0\n",
            "Is this round done? False\n"
          ]
        }
      ],
      "source": [
        "observation, reward, terminated, truncated, info = env.step(0)\n",
        "done = terminated or truncated  # Combine both termination conditions\n",
        "\n",
        "print(\"New observations after choosing action 0:\", observation)\n",
        "print(\"Reward for this step:\", reward)\n",
        "print(\"Is this round done?\", done)"
      ]
    },
    {
      "cell_type": "markdown",
      "metadata": {
        "id": "tj0zCh59fhBb"
      },
      "source": [
        "Now we can play a full round of the game using a naive strategy (always choosing action 0), and show the cumulative reward in the round. Note that reward returned by env.step(*) corresponds to the reward for current step. So we have to accumulate the reward for each step. Clearly, the naive strategy performs poorly by surviving only a dozen of steps."
      ]
    },
    {
      "cell_type": "code",
      "execution_count": 28,
      "metadata": {
        "colab": {
          "base_uri": "https://localhost:8080/"
        },
        "id": "AVucQVRwf6Jm",
        "outputId": "72f0b7d5-7cb5-4e37-da3d-997c1bfb4641"
      },
      "outputs": [
        {
          "name": "stdout",
          "output_type": "stream",
          "text": [
            "Cumulative reward for this round: 9.0\n"
          ]
        }
      ],
      "source": [
        "observation = env.reset()\n",
        "cumulative_reward = 0\n",
        "done = False\n",
        "while not done:\n",
        "    observation, reward, terminated, truncated, info = env.step(0)\n",
        "    done = terminated or truncated\n",
        "    cumulative_reward += reward\n",
        "print(\"Cumulative reward for this round:\", cumulative_reward)"
      ]
    },
    {
      "cell_type": "markdown",
      "metadata": {
        "id": "2oIzK9SzhlWN"
      },
      "source": [
        "## Task 1: Development of an RL agent"
      ]
    },
    {
      "cell_type": "markdown",
      "metadata": {
        "id": "Cc6_e5c_huiq"
      },
      "source": [
        "An example of a naive agent is given below, which randomly chooses an action regardless of the observation:"
      ]
    },
    {
      "cell_type": "code",
      "execution_count": 15,
      "metadata": {
        "id": "Hk-M4QEfh6l5"
      },
      "outputs": [],
      "source": [
        "def rand_policy_agent(observation):\n",
        "    return random.randint(0, 1)"
      ]
    },
    {
      "cell_type": "markdown",
      "metadata": {
        "id": "RAi7KKwNiegR"
      },
      "source": [
        "For Task 1, we can show the observation and chosen action below:"
      ]
    },
    {
      "cell_type": "code",
      "execution_count": 28,
      "metadata": {
        "colab": {
          "base_uri": "https://localhost:8080/"
        },
        "id": "ae2ia-vUiNKJ",
        "outputId": "22c614ca-5ba0-43d3-d27a-d79073b5d04e"
      },
      "outputs": [
        {
          "name": "stdout",
          "output_type": "stream",
          "text": [
            "Observation: (array([ 0.00606912,  0.02743864,  0.03684267, -0.00440233], dtype=float32), {})\n",
            "Chosen action: 0\n"
          ]
        }
      ],
      "source": [
        "observation = env.reset()\n",
        "action = rand_policy_agent(observation)\n",
        "print(\"Observation:\", observation)\n",
        "print(\"Chosen action:\", action)"
      ]
    },
    {
      "cell_type": "code",
      "execution_count": 80,
      "metadata": {},
      "outputs": [],
      "source": [
        "# Q-learning parameters\n",
        "alpha = 0.2  # Increased Learning rate\n",
        "gamma = 0.99  # Discount factor\n",
        "epsilon = 1.0  # Initial exploration rate\n",
        "epsilon_decay = 0.001  # Slower decay rate for better exploration\n",
        "epsilon_min = 0.05  # Minimum value of epsilon\n",
        "num_episodes = 5000  # Increased training episodes\n",
        "\n",
        "# Discretization of state space\n",
        "def discretize_state(state, bins):\n",
        "    cart_pos, cart_vel, pole_angle, pole_ang_vel = state\n",
        "    cart_pos_bin = np.digitize(cart_pos, bins[0])\n",
        "    cart_vel_bin = np.digitize(cart_vel, bins[1])\n",
        "    pole_angle_bin = np.digitize(pole_angle, bins[2])\n",
        "    pole_ang_vel_bin = np.digitize(pole_ang_vel, bins[3])\n",
        "    return (cart_pos_bin, cart_vel_bin, pole_angle_bin, pole_ang_vel_bin)\n",
        "\n",
        "# Create finer bins for discretization\n",
        "bins = [\n",
        "    np.linspace(-4.8, 4.8, 20),  # Cart Position\n",
        "    np.linspace(-4.0, 4.0, 20),  # Cart Velocity\n",
        "    np.linspace(-0.418, 0.418, 20),  # Pole Angle\n",
        "    np.linspace(-4.0, 4.0, 20)  # Pole Angular Velocity\n",
        "]\n",
        "\n",
        "# Initialize Q-table\n",
        "q_table = defaultdict(lambda: np.zeros(env.action_space.n))\n",
        "\n",
        "# Q-learning training loop\n",
        "for episode in range(num_episodes):\n",
        "    state, _ = env.reset()\n",
        "    state = discretize_state(state, bins)\n",
        "    done = False\n",
        "    total_reward = 0\n",
        "    \n",
        "    while not done:\n",
        "        # Choose action using epsilon-greedy policy\n",
        "        if random.uniform(0, 1) < epsilon:\n",
        "            action = env.action_space.sample()  # Explore\n",
        "        else:\n",
        "            action = np.argmax(q_table[state])  # Exploit best known action\n",
        "        \n",
        "        # Take action and observe new state and reward\n",
        "        next_state, reward, terminated, truncated, _ = env.step(action)\n",
        "        next_state = discretize_state(next_state, bins)\n",
        "        done = terminated or truncated\n",
        "        total_reward += reward\n",
        "        \n",
        "        # Update Q-value using Bellman equation\n",
        "        q_table[state][action] = (q_table[state][action] + alpha * \n",
        "                                  (reward + gamma * np.max(q_table[next_state]) - q_table[state][action]))\n",
        "        \n",
        "        state = next_state  # Move to next state\n",
        "    \n",
        "    # Decay epsilon\n",
        "    epsilon = max(epsilon * epsilon_decay, epsilon_min)"
      ]
    },
    {
      "cell_type": "markdown",
      "metadata": {
        "id": "-XtIQ0Rti1gm"
      },
      "source": [
        "## Task 2: Demonstrate the effectiveness of the RL agent"
      ]
    },
    {
      "cell_type": "markdown",
      "metadata": {
        "id": "djBEShf0kGI4"
      },
      "source": [
        "For this task, use the agent developed in Task 1 to play the game for 100 episodes (refer to tutorial for how to play a round), record the cumulative reward for each round, and plot the reward for each round. A sample plotting code is given below. Note that you must include code to play for 100 episodes and use the code to obtain round_results for plotting. DO NOT record the round results in advance and paste the results to the notebook."
      ]
    },
    {
      "cell_type": "code",
      "execution_count": 81,
      "metadata": {},
      "outputs": [
        {
          "data": {
            "image/png": "[encoded data removed]",
            "text/plain": [
              "<Figure size 640x480 with 1 Axes>"
            ]
          },
          "metadata": {},
          "output_type": "display_data"
        }
      ],
      "source": [
        "# Evaluate agent's performance\n",
        "num_eval_episodes = 100\n",
        "episode_results = []\n",
        "for episode in range(num_eval_episodes):\n",
        "    state, _ = env.reset()\n",
        "    state = discretize_state(state, bins)\n",
        "    done = False\n",
        "    cumulative_reward = 0\n",
        "    \n",
        "    while not done:\n",
        "        action = np.argmax(q_table[state])  # Always exploit the best known action\n",
        "        state, reward, terminated, truncated, _ = env.step(action)\n",
        "        state = discretize_state(state, bins)\n",
        "        done = terminated or truncated\n",
        "        cumulative_reward += reward\n",
        "    \n",
        "    episode_results.append(cumulative_reward)\n",
        "\n",
        "# Plot results\n",
        "plt.plot(episode_results)\n",
        "plt.title('Cumulative reward for each episode')\n",
        "plt.ylabel('Cumulative reward')\n",
        "plt.xlabel('Episode')\n",
        "plt.show()"
      ]
    },
    {
      "cell_type": "markdown",
      "metadata": {
        "id": "XndSYH7wlvn7"
      },
      "source": [
        "Print the average reward over the 100 episodes."
      ]
    },
    {
      "cell_type": "code",
      "execution_count": 82,
      "metadata": {
        "colab": {
          "base_uri": "https://localhost:8080/"
        },
        "id": "pOiOp9OYlo5Y",
        "outputId": "7a02ba7b-ff17-41f2-aa7f-eb50d49a83fd"
      },
      "outputs": [
        {
          "name": "stdout",
          "output_type": "stream",
          "text": [
            "Average cumulative reward: 297.32\n",
            "Is my agent good enough? True\n"
          ]
        }
      ],
      "source": [
        "print(\"Average cumulative reward:\", np.mean(episode_results))\n",
        "print(\"Is my agent good enough?\", np.mean(episode_results) > 195)"
      ]
    },
    {
      "cell_type": "markdown",
      "metadata": {},
      "source": [
        "## Testing All together *Can remove code below"
      ]
    },
    {
      "cell_type": "code",
      "execution_count": 3,
      "metadata": {},
      "outputs": [
        {
          "ename": "NameError",
          "evalue": "name 'np' is not defined",
          "output_type": "error",
          "traceback": [
            "\u001b[1;31m---------------------------------------------------------------------------\u001b[0m",
            "\u001b[1;31mNameError\u001b[0m                                 Traceback (most recent call last)",
            "Cell \u001b[1;32mIn[3], line 20\u001b[0m\n\u001b[0;32m     16\u001b[0m     \u001b[38;5;28;01mreturn\u001b[39;00m (cart_pos_bin, cart_vel_bin, pole_angle_bin, pole_ang_vel_bin)\n\u001b[0;32m     18\u001b[0m \u001b[38;5;66;03m# Create finer bins for discretization\u001b[39;00m\n\u001b[0;32m     19\u001b[0m bins \u001b[38;5;241m=\u001b[39m [\n\u001b[1;32m---> 20\u001b[0m     \u001b[43mnp\u001b[49m\u001b[38;5;241m.\u001b[39mlinspace(\u001b[38;5;241m-\u001b[39m\u001b[38;5;241m4.8\u001b[39m, \u001b[38;5;241m4.8\u001b[39m, \u001b[38;5;241m20\u001b[39m),  \u001b[38;5;66;03m# Cart Position\u001b[39;00m\n\u001b[0;32m     21\u001b[0m     np\u001b[38;5;241m.\u001b[39mlinspace(\u001b[38;5;241m-\u001b[39m\u001b[38;5;241m4.0\u001b[39m, \u001b[38;5;241m4.0\u001b[39m, \u001b[38;5;241m20\u001b[39m),  \u001b[38;5;66;03m# Cart Velocity\u001b[39;00m\n\u001b[0;32m     22\u001b[0m     np\u001b[38;5;241m.\u001b[39mlinspace(\u001b[38;5;241m-\u001b[39m\u001b[38;5;241m0.418\u001b[39m, \u001b[38;5;241m0.418\u001b[39m, \u001b[38;5;241m20\u001b[39m),  \u001b[38;5;66;03m# Pole Angle\u001b[39;00m\n\u001b[0;32m     23\u001b[0m     np\u001b[38;5;241m.\u001b[39mlinspace(\u001b[38;5;241m-\u001b[39m\u001b[38;5;241m4.0\u001b[39m, \u001b[38;5;241m4.0\u001b[39m, \u001b[38;5;241m20\u001b[39m)  \u001b[38;5;66;03m# Pole Angular Velocity\u001b[39;00m\n\u001b[0;32m     24\u001b[0m ]\n\u001b[0;32m     26\u001b[0m \u001b[38;5;66;03m# Initialize Q-table\u001b[39;00m\n\u001b[0;32m     27\u001b[0m q_table \u001b[38;5;241m=\u001b[39m defaultdict(\u001b[38;5;28;01mlambda\u001b[39;00m: np\u001b[38;5;241m.\u001b[39mzeros(env\u001b[38;5;241m.\u001b[39maction_space\u001b[38;5;241m.\u001b[39mn))\n",
            "\u001b[1;31mNameError\u001b[0m: name 'np' is not defined"
          ]
        }
      ],
      "source": [
        "# Q-learning parameters\n",
        "alpha = 0.2  # Increased Learning rate\n",
        "gamma = 0.99  # Discount factor\n",
        "epsilon = 1.0  # Initial exploration rate\n",
        "epsilon_decay = 0.999  # Slower decay rate for better exploration\n",
        "epsilon_min = 0.05  # Minimum value of epsilon\n",
        "num_episodes = 5000  # Increased training episodes\n",
        "\n",
        "# Discretization of state space\n",
        "def discretize_state(state, bins):\n",
        "    cart_pos, cart_vel, pole_angle, pole_ang_vel = state\n",
        "    cart_pos_bin = np.digitize(cart_pos, bins[0])\n",
        "    cart_vel_bin = np.digitize(cart_vel, bins[1])\n",
        "    pole_angle_bin = np.digitize(pole_angle, bins[2])\n",
        "    pole_ang_vel_bin = np.digitize(pole_ang_vel, bins[3])\n",
        "    return (cart_pos_bin, cart_vel_bin, pole_angle_bin, pole_ang_vel_bin)\n",
        "\n",
        "# Create finer bins for discretization\n",
        "bins = [\n",
        "    np.linspace(-4.8, 4.8, 20),  # Cart Position\n",
        "    np.linspace(-4.0, 4.0, 20),  # Cart Velocity\n",
        "    np.linspace(-0.418, 0.418, 20),  # Pole Angle\n",
        "    np.linspace(-4.0, 4.0, 20)  # Pole Angular Velocity\n",
        "]\n",
        "\n",
        "# Initialize Q-table\n",
        "q_table = defaultdict(lambda: np.zeros(env.action_space.n))\n",
        "\n",
        "# Q-learning training loop\n",
        "for episode in range(num_episodes):\n",
        "    state, _ = env.reset()\n",
        "    state = discretize_state(state, bins)\n",
        "    done = False\n",
        "    total_reward = 0\n",
        "    \n",
        "    while not done:\n",
        "        # Choose action using epsilon-greedy policy\n",
        "        if random.uniform(0, 1) < epsilon:\n",
        "            action = env.action_space.sample()  # Explore\n",
        "        else:\n",
        "            action = np.argmax(q_table[state])  # Exploit best known action\n",
        "        \n",
        "        # Take action and observe new state and reward\n",
        "        next_state, reward, terminated, truncated, _ = env.step(action)\n",
        "        next_state = discretize_state(next_state, bins)\n",
        "        done = terminated or truncated\n",
        "        total_reward += reward\n",
        "        \n",
        "        # Update Q-value using Bellman equation\n",
        "        q_table[state][action] = (q_table[state][action] + alpha * \n",
        "                                  (reward + gamma * np.max(q_table[next_state]) - q_table[state][action]))\n",
        "        \n",
        "        state = next_state  # Move to next state\n",
        "    \n",
        "    # Decay epsilon\n",
        "    epsilon = max(epsilon * epsilon_decay, epsilon_min)\n",
        "\n",
        "# Evaluate agent's performance\n",
        "num_eval_episodes = 100\n",
        "episode_results = []\n",
        "for episode in range(num_eval_episodes):\n",
        "    state, _ = env.reset()\n",
        "    state = discretize_state(state, bins)\n",
        "    done = False\n",
        "    cumulative_reward = 0\n",
        "    \n",
        "    while not done:\n",
        "        action = np.argmax(q_table[state])  # Always exploit the best known action\n",
        "        state, reward, terminated, truncated, _ = env.step(action)\n",
        "        state = discretize_state(state, bins)\n",
        "        done = terminated or truncated\n",
        "        cumulative_reward += reward\n",
        "    \n",
        "    episode_results.append(cumulative_reward)\n",
        "\n",
        "# Plot results\n",
        "plt.plot(episode_results)\n",
        "plt.title('Cumulative reward for each episode')\n",
        "plt.ylabel('Cumulative reward')\n",
        "plt.xlabel('Episode')\n",
        "plt.show()\n",
        "\n",
        "# Compute and print the average reward\n",
        "avg_reward = np.mean(episode_results)\n",
        "print(\"Average cumulative reward:\", avg_reward)\n",
        "print(\"Is my agent good enough?\", avg_reward > 195)"
      ]
    },
    {
      "cell_type": "markdown",
      "metadata": {
        "id": "Yg0DCT38lFA6"
      },
      "source": [
        "## Task 3: Render one episode played by the agent"
      ]
    },
    {
      "cell_type": "markdown",
      "metadata": {
        "id": "vx1awMr9lc_w"
      },
      "source": [
        "Plug your agent to the code below to obtain rendered result."
      ]
    },
    {
      "cell_type": "code",
      "execution_count": 68,
      "metadata": {},
      "outputs": [
        {
          "name": "stdout",
          "output_type": "stream",
          "text": [
            "Could not find video\n"
          ]
        }
      ],
      "source": [
        "env = RecordVideo(gym.make(\"CartPole-v1\"), \"./video\")\n",
        "observation, _ = env.reset()\n",
        "while True:\n",
        "    env.render()\n",
        "    action = np.argmax(q_table[discretize_state(observation, bins)])  # Use trained policy\n",
        "    observation, reward, terminated, truncated, _ = env.step(action)\n",
        "    done = terminated or truncated\n",
        "    if done:\n",
        "        break\n",
        "env.close()\n",
        "show_video()"
      ]
    },
    {
      "cell_type": "code",
      "execution_count": 86,
      "metadata": {},
      "outputs": [
        {
          "name": "stdout",
          "output_type": "stream",
          "text": [
            "Moviepy - Building video c:\\Users\\YiShian\\Documents\\GitHub\\SC3000-Artificial-Intelligence\\video\\rl-video-episode-0.mp4.\n",
            "Moviepy - Writing video c:\\Users\\YiShian\\Documents\\GitHub\\SC3000-Artificial-Intelligence\\video\\rl-video-episode-0.mp4\n",
            "\n"
          ]
        },
        {
          "name": "stderr",
          "output_type": "stream",
          "text": [
            "                                                                "
          ]
        },
        {
          "name": "stdout",
          "output_type": "stream",
          "text": [
            "Moviepy - Done !\n",
            "Moviepy - video ready c:\\Users\\YiShian\\Documents\\GitHub\\SC3000-Artificial-Intelligence\\video\\rl-video-episode-0.mp4\n"
          ]
        },
        {
          "name": "stderr",
          "output_type": "stream",
          "text": [
            "\r"
          ]
        },
        {
          "data": {
            "text/html": [
              "<video width=\"640\" height=\"480\" controls><source src=\"data:video/mp4;base64,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\" type=\"video/mp4\"></video>"
            ],
            "text/plain": [
              "<IPython.core.display.HTML object>"
            ]
          },
          "metadata": {},
          "output_type": "display_data"
        }
      ],
      "source": [
        "import io\n",
        "import base64\n",
        "import glob\n",
        "from IPython.display import HTML, display\n",
        "from gym.wrappers import RecordVideo\n",
        "\n",
        "# Function to display recorded video\n",
        "def show_video():\n",
        "    mp4list = glob.glob('./video/*.mp4')\n",
        "    if len(mp4list) > 0:\n",
        "        mp4 = mp4list[0]  # Get the first video\n",
        "        video = io.open(mp4, 'r+b').read()\n",
        "        encoded = base64.b64encode(video)\n",
        "        display(HTML(data=f'<video width=\"640\" height=\"480\" controls><source src=\"data:video/mp4;base64,{encoded.decode(\"ascii\")}\" type=\"video/mp4\"></video>'))\n",
        "    else:\n",
        "        print(\"Could not find video\")\n",
        "\n",
        "# Function to run and record one episode\n",
        "def videoEpisode():\n",
        "    global env\n",
        "    env = gym.make(\"CartPole-v1\", render_mode='rgb_array')  # Ensure correct render mode\n",
        "    env = RecordVideo(env, \"./video\", episode_trigger=lambda x: True)  # Always record\n",
        "\n",
        "    observation, _ = env.reset()\n",
        "    while True:\n",
        "        action = np.argmax(q_table[discretize_state(observation, bins)])  # Use trained policy\n",
        "        observation, reward, terminated, truncated, _ = env.step(action)\n",
        "        if terminated or truncated:\n",
        "            break\n",
        "\n",
        "    env.close()\n",
        "    show_video()\n",
        "\n",
        "# Run the video episode and display the recorded video\n",
        "videoEpisode()"
      ]
    }
  ],
  "metadata": {
    "colab": {
      "authorship_tag": "ABX9TyNczA+lJQOKjOo4XtzYjWQc",
      "include_colab_link": true,
      "provenance": []
    },
    "kernelspec": {
      "display_name": "Python 3",
      "language": "python",
      "name": "python3"
    },
    "language_info": {
      "codemirror_mode": {
        "name": "ipython",
        "version": 3
      },
      "file_extension": ".py",
      "mimetype": "text/x-python",
      "name": "python",
      "nbconvert_exporter": "python",
      "pygments_lexer": "ipython3",
      "version": "3.8.10"
    }
  },
  "nbformat": 4,
  "nbformat_minor": 0
}
