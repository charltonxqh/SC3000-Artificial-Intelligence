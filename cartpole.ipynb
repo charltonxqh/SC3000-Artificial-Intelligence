{
  "cells": [
    {
      "cell_type": "markdown",
      "metadata": {
        "id": "ZauhjPSfX7pI"
      },
      "source": [
        "# 24S2 SC3000/CZ3005 Assignment 1: Balancing a Pole on a Cart"
      ]
    },
    {
      "cell_type": "markdown",
      "metadata": {
        "id": "UBiYOoesYMvr"
      },
      "source": [
        "## Installing dependencies:"
      ]
    },
    {
      "cell_type": "code",
      "execution_count": 1,
      "metadata": {},
      "outputs": [
        {
          "name": "stdout",
          "output_type": "stream",
          "text": [
            "Collecting anyio==4.5.2 (from -r requirements.txt (line 1))\n",
            "  Downloading anyio-4.5.2-py3-none-any.whl.metadata (4.7 kB)\n",
            "Requirement already satisfied: argon2-cffi==23.1.0 in c:\\users\\user\\appdata\\local\\programs\\python\\python311\\lib\\site-packages (from -r requirements.txt (line 2)) (23.1.0)\n",
            "Requirement already satisfied: argon2-cffi-bindings==21.2.0 in c:\\users\\user\\appdata\\local\\programs\\python\\python311\\lib\\site-packages (from -r requirements.txt (line 3)) (21.2.0)\n",
            "Collecting asttokens==3.0.0 (from -r requirements.txt (line 4))\n",
            "  Downloading asttokens-3.0.0-py3-none-any.whl.metadata (4.7 kB)\n",
            "Requirement already satisfied: async-lru==2.0.4 in c:\\users\\user\\appdata\\local\\programs\\python\\python311\\lib\\site-packages (from -r requirements.txt (line 5)) (2.0.4)\n",
            "Collecting attrs==25.1.0 (from -r requirements.txt (line 6))\n",
            "  Downloading attrs-25.1.0-py3-none-any.whl.metadata (10 kB)\n",
            "Collecting babel==2.17.0 (from -r requirements.txt (line 7))\n",
            "  Downloading babel-2.17.0-py3-none-any.whl.metadata (2.0 kB)\n",
            "Collecting backcall==0.2.0 (from -r requirements.txt (line 8))\n",
            "  Downloading backcall-0.2.0-py2.py3-none-any.whl.metadata (2.0 kB)\n",
            "Collecting beautifulsoup4==4.13.3 (from -r requirements.txt (line 9))\n",
            "  Downloading beautifulsoup4-4.13.3-py3-none-any.whl.metadata (3.8 kB)\n",
            "Requirement already satisfied: bleach==6.1.0 in c:\\users\\user\\appdata\\local\\programs\\python\\python311\\lib\\site-packages (from -r requirements.txt (line 10)) (6.1.0)\n",
            "Collecting certifi==2025.1.31 (from -r requirements.txt (line 11))\n",
            "  Downloading certifi-2025.1.31-py3-none-any.whl.metadata (2.5 kB)\n",
            "Collecting cffi==1.17.1 (from -r requirements.txt (line 12))\n",
            "  Downloading cffi-1.17.1-cp311-cp311-win_amd64.whl.metadata (1.6 kB)\n",
            "Collecting charset-normalizer==3.4.1 (from -r requirements.txt (line 13))\n",
            "  Downloading charset_normalizer-3.4.1-cp311-cp311-win_amd64.whl.metadata (36 kB)\n",
            "Collecting cloudpickle==3.1.1 (from -r requirements.txt (line 14))\n",
            "  Downloading cloudpickle-3.1.1-py3-none-any.whl.metadata (7.1 kB)\n",
            "Collecting cmake==3.31.4 (from -r requirements.txt (line 15))\n",
            "  Downloading cmake-3.31.4-py3-none-win_amd64.whl.metadata (6.5 kB)\n",
            "Requirement already satisfied: colorama==0.4.6 in c:\\users\\user\\appdata\\local\\programs\\python\\python311\\lib\\site-packages (from -r requirements.txt (line 16)) (0.4.6)\n",
            "Requirement already satisfied: comm==0.2.2 in c:\\users\\user\\appdata\\local\\programs\\python\\python311\\lib\\site-packages (from -r requirements.txt (line 17)) (0.2.2)\n",
            "Collecting debugpy==1.8.12 (from -r requirements.txt (line 18))\n",
            "  Downloading debugpy-1.8.12-cp311-cp311-win_amd64.whl.metadata (1.3 kB)\n",
            "Requirement already satisfied: decorator==5.1.1 in c:\\users\\user\\appdata\\local\\programs\\python\\python311\\lib\\site-packages (from -r requirements.txt (line 19)) (5.1.1)\n",
            "Requirement already satisfied: defusedxml==0.7.1 in c:\\users\\user\\appdata\\local\\programs\\python\\python311\\lib\\site-packages (from -r requirements.txt (line 20)) (0.7.1)\n",
            "Collecting exceptiongroup==1.2.2 (from -r requirements.txt (line 21))\n",
            "  Downloading exceptiongroup-1.2.2-py3-none-any.whl.metadata (6.6 kB)\n",
            "Collecting executing==2.2.0 (from -r requirements.txt (line 22))\n",
            "  Downloading executing-2.2.0-py2.py3-none-any.whl.metadata (8.9 kB)\n",
            "Collecting ez-setup==0.9 (from -r requirements.txt (line 23))\n",
            "  Using cached ez_setup-0.9-py3-none-any.whl\n",
            "Collecting fastjsonschema==2.21.1 (from -r requirements.txt (line 24))\n",
            "  Downloading fastjsonschema-2.21.1-py3-none-any.whl.metadata (2.2 kB)\n",
            "Collecting gym==0.26.2 (from -r requirements.txt (line 25))\n",
            "  Downloading gym-0.26.2.tar.gz (721 kB)\n",
            "     ---------------------------------------- 0.0/721.7 kB ? eta -:--:--\n",
            "     -------------------------------------- 721.7/721.7 kB 9.8 MB/s eta 0:00:00\n",
            "  Installing build dependencies: started\n",
            "  Installing build dependencies: finished with status 'done'\n",
            "  Getting requirements to build wheel: started\n",
            "  Getting requirements to build wheel: finished with status 'done'\n",
            "  Preparing metadata (pyproject.toml): started\n",
            "  Preparing metadata (pyproject.toml): finished with status 'done'\n",
            "Collecting gym-notices==0.0.8 (from -r requirements.txt (line 26))\n",
            "  Downloading gym_notices-0.0.8-py3-none-any.whl.metadata (1.0 kB)\n",
            "Requirement already satisfied: h11==0.14.0 in c:\\users\\user\\appdata\\local\\programs\\python\\python311\\lib\\site-packages (from -r requirements.txt (line 27)) (0.14.0)\n",
            "Collecting httpcore==1.0.7 (from -r requirements.txt (line 28))\n",
            "  Downloading httpcore-1.0.7-py3-none-any.whl.metadata (21 kB)\n",
            "Collecting httpx==0.28.1 (from -r requirements.txt (line 29))\n",
            "  Downloading httpx-0.28.1-py3-none-any.whl.metadata (7.1 kB)\n",
            "Collecting idna==3.10 (from -r requirements.txt (line 30))\n",
            "  Downloading idna-3.10-py3-none-any.whl.metadata (10 kB)\n",
            "Collecting importlib-metadata==8.5.0 (from -r requirements.txt (line 31))\n",
            "  Downloading importlib_metadata-8.5.0-py3-none-any.whl.metadata (4.8 kB)\n",
            "Collecting importlib-resources==6.4.5 (from -r requirements.txt (line 32))\n",
            "  Downloading importlib_resources-6.4.5-py3-none-any.whl.metadata (4.0 kB)\n",
            "Collecting ipykernel==6.29.5 (from -r requirements.txt (line 33))\n",
            "  Downloading ipykernel-6.29.5-py3-none-any.whl.metadata (6.3 kB)\n",
            "Collecting ipython==8.12.3 (from -r requirements.txt (line 34))\n",
            "  Downloading ipython-8.12.3-py3-none-any.whl.metadata (5.7 kB)\n",
            "Collecting jedi==0.19.2 (from -r requirements.txt (line 35))\n",
            "  Downloading jedi-0.19.2-py2.py3-none-any.whl.metadata (22 kB)\n",
            "Collecting jinja2==3.1.5 (from -r requirements.txt (line 36))\n",
            "  Downloading jinja2-3.1.5-py3-none-any.whl.metadata (2.6 kB)\n",
            "Collecting json5==0.10.0 (from -r requirements.txt (line 37))\n",
            "  Downloading json5-0.10.0-py3-none-any.whl.metadata (34 kB)\n",
            "Collecting jsonschema==4.23.0 (from -r requirements.txt (line 38))\n",
            "  Downloading jsonschema-4.23.0-py3-none-any.whl.metadata (7.9 kB)\n",
            "Requirement already satisfied: jsonschema-specifications==2023.12.1 in c:\\users\\user\\appdata\\local\\programs\\python\\python311\\lib\\site-packages (from -r requirements.txt (line 39)) (2023.12.1)\n",
            "Collecting jupyter-client==8.6.3 (from -r requirements.txt (line 40))\n",
            "  Downloading jupyter_client-8.6.3-py3-none-any.whl.metadata (8.3 kB)\n",
            "Requirement already satisfied: jupyter-core==5.7.2 in c:\\users\\user\\appdata\\local\\programs\\python\\python311\\lib\\site-packages (from -r requirements.txt (line 41)) (5.7.2)\n",
            "Requirement already satisfied: jupyter-events==0.10.0 in c:\\users\\user\\appdata\\local\\programs\\python\\python311\\lib\\site-packages (from -r requirements.txt (line 42)) (0.10.0)\n",
            "Collecting jupyter-lsp==2.2.5 (from -r requirements.txt (line 43))\n",
            "  Downloading jupyter_lsp-2.2.5-py3-none-any.whl.metadata (1.8 kB)\n",
            "Collecting jupyter-server==2.14.2 (from -r requirements.txt (line 44))\n",
            "  Downloading jupyter_server-2.14.2-py3-none-any.whl.metadata (8.4 kB)\n",
            "Requirement already satisfied: jupyter-server-terminals==0.5.3 in c:\\users\\user\\appdata\\local\\programs\\python\\python311\\lib\\site-packages (from -r requirements.txt (line 45)) (0.5.3)\n",
            "Requirement already satisfied: jupyterlab==4.3.5 in c:\\users\\user\\appdata\\local\\programs\\python\\python311\\lib\\site-packages (from -r requirements.txt (line 46)) (4.3.5)\n",
            "Requirement already satisfied: jupyterlab-pygments==0.3.0 in c:\\users\\user\\appdata\\local\\programs\\python\\python311\\lib\\site-packages (from -r requirements.txt (line 47)) (0.3.0)\n",
            "Requirement already satisfied: jupyterlab-server==2.27.3 in c:\\users\\user\\appdata\\local\\programs\\python\\python311\\lib\\site-packages (from -r requirements.txt (line 48)) (2.27.3)\n",
            "Requirement already satisfied: MarkupSafe==2.1.5 in c:\\users\\user\\appdata\\local\\programs\\python\\python311\\lib\\site-packages (from -r requirements.txt (line 49)) (2.1.5)\n",
            "Collecting matplotlib-inline==0.1.7 (from -r requirements.txt (line 50))\n",
            "  Downloading matplotlib_inline-0.1.7-py3-none-any.whl.metadata (3.9 kB)\n",
            "Collecting mistune==3.1.1 (from -r requirements.txt (line 51))\n",
            "  Downloading mistune-3.1.1-py3-none-any.whl.metadata (1.7 kB)\n",
            "Collecting nbclient==0.10.1 (from -r requirements.txt (line 52))\n",
            "  Downloading nbclient-0.10.1-py3-none-any.whl.metadata (8.2 kB)\n",
            "Collecting nbconvert==7.16.6 (from -r requirements.txt (line 53))\n",
            "  Downloading nbconvert-7.16.6-py3-none-any.whl.metadata (8.5 kB)\n",
            "Collecting nbformat==5.10.4 (from -r requirements.txt (line 54))\n",
            "  Downloading nbformat-5.10.4-py3-none-any.whl.metadata (3.6 kB)\n",
            "Requirement already satisfied: nest-asyncio==1.6.0 in c:\\users\\user\\appdata\\local\\programs\\python\\python311\\lib\\site-packages (from -r requirements.txt (line 55)) (1.6.0)\n",
            "Requirement already satisfied: notebook-shim==0.2.4 in c:\\users\\user\\appdata\\local\\programs\\python\\python311\\lib\\site-packages (from -r requirements.txt (line 56)) (0.2.4)\n",
            "Collecting numpy==1.24.4 (from -r requirements.txt (line 57))\n",
            "  Downloading numpy-1.24.4-cp311-cp311-win_amd64.whl.metadata (5.6 kB)\n",
            "Requirement already satisfied: overrides==7.7.0 in c:\\users\\user\\appdata\\local\\programs\\python\\python311\\lib\\site-packages (from -r requirements.txt (line 58)) (7.7.0)\n",
            "Collecting packaging==24.2 (from -r requirements.txt (line 59))\n",
            "  Downloading packaging-24.2-py3-none-any.whl.metadata (3.2 kB)\n",
            "Requirement already satisfied: pandocfilters==1.5.1 in c:\\users\\user\\appdata\\local\\programs\\python\\python311\\lib\\site-packages (from -r requirements.txt (line 60)) (1.5.1)\n",
            "Collecting parso==0.8.4 (from -r requirements.txt (line 61))\n",
            "  Downloading parso-0.8.4-py2.py3-none-any.whl.metadata (7.7 kB)\n",
            "Collecting pickleshare==0.7.5 (from -r requirements.txt (line 62))\n",
            "  Downloading pickleshare-0.7.5-py2.py3-none-any.whl.metadata (1.5 kB)\n",
            "Collecting pkgutil-resolve-name==1.3.10 (from -r requirements.txt (line 63))\n",
            "  Downloading pkgutil_resolve_name-1.3.10-py3-none-any.whl.metadata (624 bytes)\n",
            "Collecting platformdirs==4.3.6 (from -r requirements.txt (line 64))\n",
            "  Downloading platformdirs-4.3.6-py3-none-any.whl.metadata (11 kB)\n",
            "Collecting prometheus-client==0.21.1 (from -r requirements.txt (line 65))\n",
            "  Downloading prometheus_client-0.21.1-py3-none-any.whl.metadata (1.8 kB)\n",
            "Collecting prompt-toolkit==3.0.50 (from -r requirements.txt (line 66))\n",
            "  Downloading prompt_toolkit-3.0.50-py3-none-any.whl.metadata (6.6 kB)\n",
            "Collecting psutil==7.0.0 (from -r requirements.txt (line 67))\n",
            "  Downloading psutil-7.0.0-cp37-abi3-win_amd64.whl.metadata (23 kB)\n",
            "Collecting pure-eval==0.2.3 (from -r requirements.txt (line 68))\n",
            "  Downloading pure_eval-0.2.3-py3-none-any.whl.metadata (6.3 kB)\n",
            "Collecting pycparser==2.22 (from -r requirements.txt (line 69))\n",
            "  Downloading pycparser-2.22-py3-none-any.whl.metadata (943 bytes)\n",
            "Collecting pygments==2.19.1 (from -r requirements.txt (line 70))\n",
            "  Downloading pygments-2.19.1-py3-none-any.whl.metadata (2.5 kB)\n",
            "Collecting PyOpenGL==3.1.9 (from -r requirements.txt (line 71))\n",
            "  Downloading PyOpenGL-3.1.9-py3-none-any.whl.metadata (3.3 kB)\n",
            "Requirement already satisfied: python-dateutil==2.9.0.post0 in c:\\users\\user\\appdata\\local\\programs\\python\\python311\\lib\\site-packages (from -r requirements.txt (line 72)) (2.9.0.post0)\n",
            "Collecting python-json-logger==3.2.1 (from -r requirements.txt (line 73))\n",
            "  Downloading python_json_logger-3.2.1-py3-none-any.whl.metadata (4.1 kB)\n",
            "Collecting pytz==2025.1 (from -r requirements.txt (line 74))\n",
            "  Downloading pytz-2025.1-py2.py3-none-any.whl.metadata (22 kB)\n",
            "Collecting PyVirtualDisplay==3.0 (from -r requirements.txt (line 75))\n",
            "  Downloading PyVirtualDisplay-3.0-py3-none-any.whl.metadata (943 bytes)\n",
            "Collecting pywin32==308 (from -r requirements.txt (line 76))\n",
            "  Downloading pywin32-308-cp311-cp311-win_amd64.whl.metadata (8.3 kB)\n",
            "Collecting pywinpty==2.0.14 (from -r requirements.txt (line 77))\n",
            "  Downloading pywinpty-2.0.14-cp311-none-win_amd64.whl.metadata (5.2 kB)\n",
            "Collecting PyYAML==6.0.2 (from -r requirements.txt (line 78))\n",
            "  Downloading PyYAML-6.0.2-cp311-cp311-win_amd64.whl.metadata (2.1 kB)\n",
            "Collecting pyzmq==26.2.1 (from -r requirements.txt (line 79))\n",
            "  Downloading pyzmq-26.2.1-cp311-cp311-win_amd64.whl.metadata (6.2 kB)\n",
            "Collecting referencing==0.35.1 (from -r requirements.txt (line 80))\n",
            "  Downloading referencing-0.35.1-py3-none-any.whl.metadata (2.8 kB)\n",
            "Collecting requests==2.32.3 (from -r requirements.txt (line 81))\n",
            "  Downloading requests-2.32.3-py3-none-any.whl.metadata (4.6 kB)\n",
            "Requirement already satisfied: rfc3339-validator==0.1.4 in c:\\users\\user\\appdata\\local\\programs\\python\\python311\\lib\\site-packages (from -r requirements.txt (line 82)) (0.1.4)\n",
            "Requirement already satisfied: rfc3986-validator==0.1.1 in c:\\users\\user\\appdata\\local\\programs\\python\\python311\\lib\\site-packages (from -r requirements.txt (line 83)) (0.1.1)\n",
            "Collecting rpds-py==0.20.1 (from -r requirements.txt (line 84))\n",
            "  Downloading rpds_py-0.20.1-cp311-none-win_amd64.whl.metadata (4.2 kB)\n",
            "Collecting Send2Trash==1.8.3 (from -r requirements.txt (line 85))\n",
            "  Downloading Send2Trash-1.8.3-py3-none-any.whl.metadata (4.0 kB)\n",
            "Collecting six==1.17.0 (from -r requirements.txt (line 86))\n",
            "  Downloading six-1.17.0-py2.py3-none-any.whl.metadata (1.7 kB)\n",
            "Requirement already satisfied: sniffio==1.3.1 in c:\\users\\user\\appdata\\local\\programs\\python\\python311\\lib\\site-packages (from -r requirements.txt (line 87)) (1.3.1)\n",
            "Collecting soupsieve==2.6 (from -r requirements.txt (line 88))\n",
            "  Downloading soupsieve-2.6-py3-none-any.whl.metadata (4.6 kB)\n",
            "Requirement already satisfied: stack-data==0.6.3 in c:\\users\\user\\appdata\\local\\programs\\python\\python311\\lib\\site-packages (from -r requirements.txt (line 89)) (0.6.3)\n",
            "Requirement already satisfied: terminado==0.18.1 in c:\\users\\user\\appdata\\local\\programs\\python\\python311\\lib\\site-packages (from -r requirements.txt (line 90)) (0.18.1)\n",
            "Requirement already satisfied: tinycss2==1.2.1 in c:\\users\\user\\appdata\\local\\programs\\python\\python311\\lib\\site-packages (from -r requirements.txt (line 91)) (1.2.1)\n",
            "Collecting tomli==2.2.1 (from -r requirements.txt (line 92))\n",
            "  Downloading tomli-2.2.1-cp311-cp311-win_amd64.whl.metadata (12 kB)\n",
            "Collecting tornado==6.4.2 (from -r requirements.txt (line 93))\n",
            "  Downloading tornado-6.4.2-cp38-abi3-win_amd64.whl.metadata (2.6 kB)\n",
            "Collecting traitlets==5.14.3 (from -r requirements.txt (line 94))\n",
            "  Downloading traitlets-5.14.3-py3-none-any.whl.metadata (10 kB)\n",
            "Collecting typing-extensions==4.12.2 (from -r requirements.txt (line 95))\n",
            "  Downloading typing_extensions-4.12.2-py3-none-any.whl.metadata (3.0 kB)\n",
            "Collecting urllib3==2.2.3 (from -r requirements.txt (line 96))\n",
            "  Downloading urllib3-2.2.3-py3-none-any.whl.metadata (6.5 kB)\n",
            "Requirement already satisfied: wcwidth==0.2.13 in c:\\users\\user\\appdata\\local\\programs\\python\\python311\\lib\\site-packages (from -r requirements.txt (line 97)) (0.2.13)\n",
            "Requirement already satisfied: webencodings==0.5.1 in c:\\users\\user\\appdata\\local\\programs\\python\\python311\\lib\\site-packages (from -r requirements.txt (line 98)) (0.5.1)\n",
            "Collecting websocket-client==1.8.0 (from -r requirements.txt (line 99))\n",
            "  Downloading websocket_client-1.8.0-py3-none-any.whl.metadata (8.0 kB)\n",
            "Collecting zipp==3.20.2 (from -r requirements.txt (line 100))\n",
            "  Downloading zipp-3.20.2-py3-none-any.whl.metadata (3.7 kB)\n",
            "Requirement already satisfied: setuptools>=40.8.0 in c:\\users\\user\\appdata\\local\\programs\\python\\python311\\lib\\site-packages (from jupyterlab==4.3.5->-r requirements.txt (line 46)) (65.5.0)\n",
            "Requirement already satisfied: fqdn in c:\\users\\user\\appdata\\local\\programs\\python\\python311\\lib\\site-packages (from jsonschema[format-nongpl]>=4.18.0->jupyter-events==0.10.0->-r requirements.txt (line 42)) (1.5.1)\n",
            "Requirement already satisfied: isoduration in c:\\users\\user\\appdata\\local\\programs\\python\\python311\\lib\\site-packages (from jsonschema[format-nongpl]>=4.18.0->jupyter-events==0.10.0->-r requirements.txt (line 42)) (20.11.0)\n",
            "Requirement already satisfied: jsonpointer>1.13 in c:\\users\\user\\appdata\\local\\programs\\python\\python311\\lib\\site-packages (from jsonschema[format-nongpl]>=4.18.0->jupyter-events==0.10.0->-r requirements.txt (line 42)) (2.4)\n",
            "Requirement already satisfied: uri-template in c:\\users\\user\\appdata\\local\\programs\\python\\python311\\lib\\site-packages (from jsonschema[format-nongpl]>=4.18.0->jupyter-events==0.10.0->-r requirements.txt (line 42)) (1.3.0)\n",
            "Collecting webcolors>=24.6.0 (from jsonschema[format-nongpl]>=4.18.0->jupyter-events==0.10.0->-r requirements.txt (line 42))\n",
            "  Downloading webcolors-24.11.1-py3-none-any.whl.metadata (2.2 kB)\n",
            "Requirement already satisfied: arrow>=0.15.0 in c:\\users\\user\\appdata\\local\\programs\\python\\python311\\lib\\site-packages (from isoduration->jsonschema[format-nongpl]>=4.18.0->jupyter-events==0.10.0->-r requirements.txt (line 42)) (1.3.0)\n",
            "Requirement already satisfied: types-python-dateutil>=2.8.10 in c:\\users\\user\\appdata\\local\\programs\\python\\python311\\lib\\site-packages (from arrow>=0.15.0->isoduration->jsonschema[format-nongpl]>=4.18.0->jupyter-events==0.10.0->-r requirements.txt (line 42)) (2.9.0.20240316)\n",
            "Downloading anyio-4.5.2-py3-none-any.whl (89 kB)\n",
            "Downloading asttokens-3.0.0-py3-none-any.whl (26 kB)\n",
            "Downloading attrs-25.1.0-py3-none-any.whl (63 kB)\n",
            "Downloading babel-2.17.0-py3-none-any.whl (10.2 MB)\n",
            "   ---------------------------------------- 0.0/10.2 MB ? eta -:--:--\n",
            "   -------- ------------------------------- 2.1/10.2 MB 10.7 MB/s eta 0:00:01\n",
            "   -------------- ------------------------- 3.7/10.2 MB 9.1 MB/s eta 0:00:01\n",
            "   ---------------------- ----------------- 5.8/10.2 MB 9.0 MB/s eta 0:00:01\n",
            "   ----------------------------- ---------- 7.6/10.2 MB 9.2 MB/s eta 0:00:01\n",
            "   -------------------------------------- - 9.7/10.2 MB 9.3 MB/s eta 0:00:01\n",
            "   ---------------------------------------- 10.2/10.2 MB 9.1 MB/s eta 0:00:00\n",
            "Downloading backcall-0.2.0-py2.py3-none-any.whl (11 kB)\n",
            "Downloading beautifulsoup4-4.13.3-py3-none-any.whl (186 kB)\n",
            "Downloading certifi-2025.1.31-py3-none-any.whl (166 kB)\n",
            "Downloading cffi-1.17.1-cp311-cp311-win_amd64.whl (181 kB)\n",
            "Downloading charset_normalizer-3.4.1-cp311-cp311-win_amd64.whl (102 kB)\n",
            "Downloading cloudpickle-3.1.1-py3-none-any.whl (20 kB)\n",
            "Downloading cmake-3.31.4-py3-none-win_amd64.whl (36.5 MB)\n",
            "   ---------------------------------------- 0.0/36.5 MB ? eta -:--:--\n",
            "   ---------------------------------------- 0.3/36.5 MB ? eta -:--:--\n",
            "    --------------------------------------- 0.8/36.5 MB 2.6 MB/s eta 0:00:14\n",
            "   -- ------------------------------------- 2.1/36.5 MB 4.2 MB/s eta 0:00:09\n",
            "   -- ------------------------------------- 2.4/36.5 MB 3.4 MB/s eta 0:00:11\n",
            "   ---- ----------------------------------- 4.2/36.5 MB 4.5 MB/s eta 0:00:08\n",
            "   ------ --------------------------------- 6.0/36.5 MB 5.3 MB/s eta 0:00:06\n",
            "   -------- ------------------------------- 8.1/36.5 MB 6.1 MB/s eta 0:00:05\n",
            "   ----------- ---------------------------- 10.2/36.5 MB 6.6 MB/s eta 0:00:04\n",
            "   ------------ --------------------------- 11.8/36.5 MB 6.7 MB/s eta 0:00:04\n",
            "   -------------- ------------------------- 13.6/36.5 MB 6.9 MB/s eta 0:00:04\n",
            "   ---------------- ----------------------- 14.7/36.5 MB 6.8 MB/s eta 0:00:04\n",
            "   ----------------- ---------------------- 16.0/36.5 MB 6.7 MB/s eta 0:00:04\n",
            "   ------------------- -------------------- 17.6/36.5 MB 6.8 MB/s eta 0:00:03\n",
            "   --------------------- ------------------ 19.4/36.5 MB 6.8 MB/s eta 0:00:03\n",
            "   ----------------------- ---------------- 21.5/36.5 MB 7.0 MB/s eta 0:00:03\n",
            "   ------------------------- -------------- 23.6/36.5 MB 7.2 MB/s eta 0:00:02\n",
            "   ---------------------------- ----------- 25.7/36.5 MB 7.4 MB/s eta 0:00:02\n",
            "   ------------------------------ --------- 27.5/36.5 MB 7.4 MB/s eta 0:00:02\n",
            "   -------------------------------- ------- 29.6/36.5 MB 7.6 MB/s eta 0:00:01\n",
            "   ---------------------------------- ----- 31.7/36.5 MB 7.7 MB/s eta 0:00:01\n",
            "   ------------------------------------ --- 33.6/36.5 MB 7.7 MB/s eta 0:00:01\n",
            "   ---------------------------------------  35.7/36.5 MB 7.8 MB/s eta 0:00:01\n",
            "   ---------------------------------------  36.4/36.5 MB 7.9 MB/s eta 0:00:01\n",
            "   ---------------------------------------- 36.5/36.5 MB 7.6 MB/s eta 0:00:00\n",
            "Downloading debugpy-1.8.12-cp311-cp311-win_amd64.whl (5.1 MB)\n",
            "   ---------------------------------------- 0.0/5.1 MB ? eta -:--:--\n",
            "   -------------- ------------------------- 1.8/5.1 MB 8.4 MB/s eta 0:00:01\n",
            "   -------------------------- ------------- 3.4/5.1 MB 8.4 MB/s eta 0:00:01\n",
            "   ---------------------------------------- 5.1/5.1 MB 8.6 MB/s eta 0:00:00\n",
            "Downloading exceptiongroup-1.2.2-py3-none-any.whl (16 kB)\n",
            "Downloading executing-2.2.0-py2.py3-none-any.whl (26 kB)\n",
            "Downloading fastjsonschema-2.21.1-py3-none-any.whl (23 kB)\n",
            "Downloading gym_notices-0.0.8-py3-none-any.whl (3.0 kB)\n",
            "Downloading httpcore-1.0.7-py3-none-any.whl (78 kB)\n",
            "Downloading httpx-0.28.1-py3-none-any.whl (73 kB)\n",
            "Downloading idna-3.10-py3-none-any.whl (70 kB)\n",
            "Downloading importlib_metadata-8.5.0-py3-none-any.whl (26 kB)\n",
            "Downloading importlib_resources-6.4.5-py3-none-any.whl (36 kB)\n",
            "Downloading ipykernel-6.29.5-py3-none-any.whl (117 kB)\n",
            "Downloading ipython-8.12.3-py3-none-any.whl (798 kB)\n",
            "   ---------------------------------------- 0.0/798.3 kB ? eta -:--:--\n",
            "   ---------------------------------------- 798.3/798.3 kB 8.6 MB/s eta 0:00:00\n",
            "Downloading jedi-0.19.2-py2.py3-none-any.whl (1.6 MB)\n",
            "   ---------------------------------------- 0.0/1.6 MB ? eta -:--:--\n",
            "   --------------------------------- ------ 1.3/1.6 MB 7.5 MB/s eta 0:00:01\n",
            "   ---------------------------------------- 1.6/1.6 MB 6.5 MB/s eta 0:00:00\n",
            "Downloading jinja2-3.1.5-py3-none-any.whl (134 kB)\n",
            "Downloading json5-0.10.0-py3-none-any.whl (34 kB)\n",
            "Downloading jsonschema-4.23.0-py3-none-any.whl (88 kB)\n",
            "Downloading jupyter_client-8.6.3-py3-none-any.whl (106 kB)\n",
            "Downloading jupyter_lsp-2.2.5-py3-none-any.whl (69 kB)\n",
            "Downloading jupyter_server-2.14.2-py3-none-any.whl (383 kB)\n",
            "Downloading matplotlib_inline-0.1.7-py3-none-any.whl (9.9 kB)\n",
            "Downloading mistune-3.1.1-py3-none-any.whl (53 kB)\n",
            "Downloading nbclient-0.10.1-py3-none-any.whl (25 kB)\n",
            "Downloading nbconvert-7.16.6-py3-none-any.whl (258 kB)\n",
            "Downloading nbformat-5.10.4-py3-none-any.whl (78 kB)\n",
            "Downloading numpy-1.24.4-cp311-cp311-win_amd64.whl (14.8 MB)\n",
            "   ---------------------------------------- 0.0/14.8 MB ? eta -:--:--\n",
            "   ---- ----------------------------------- 1.8/14.8 MB 10.1 MB/s eta 0:00:02\n",
            "   ---------- ----------------------------- 3.9/14.8 MB 9.4 MB/s eta 0:00:02\n",
            "   ---------------- ----------------------- 6.0/14.8 MB 9.7 MB/s eta 0:00:01\n",
            "   --------------------- ------------------ 7.9/14.8 MB 9.4 MB/s eta 0:00:01\n",
            "   -------------------------- ------------- 9.7/14.8 MB 9.2 MB/s eta 0:00:01\n",
            "   ------------------------------- -------- 11.8/14.8 MB 9.3 MB/s eta 0:00:01\n",
            "   ------------------------------------- -- 13.9/14.8 MB 9.3 MB/s eta 0:00:01\n",
            "   ---------------------------------------- 14.8/14.8 MB 9.1 MB/s eta 0:00:00\n",
            "Downloading packaging-24.2-py3-none-any.whl (65 kB)\n",
            "Downloading parso-0.8.4-py2.py3-none-any.whl (103 kB)\n",
            "Downloading pickleshare-0.7.5-py2.py3-none-any.whl (6.9 kB)\n",
            "Downloading pkgutil_resolve_name-1.3.10-py3-none-any.whl (4.7 kB)\n",
            "Downloading platformdirs-4.3.6-py3-none-any.whl (18 kB)\n",
            "Downloading prometheus_client-0.21.1-py3-none-any.whl (54 kB)\n",
            "Downloading prompt_toolkit-3.0.50-py3-none-any.whl (387 kB)\n",
            "Downloading psutil-7.0.0-cp37-abi3-win_amd64.whl (244 kB)\n",
            "Downloading pure_eval-0.2.3-py3-none-any.whl (11 kB)\n",
            "Downloading pycparser-2.22-py3-none-any.whl (117 kB)\n",
            "Downloading pygments-2.19.1-py3-none-any.whl (1.2 MB)\n",
            "   ---------------------------------------- 0.0/1.2 MB ? eta -:--:--\n",
            "   ---------------------------------- ----- 1.0/1.2 MB 10.1 MB/s eta 0:00:01\n",
            "   ---------------------------------- ----- 1.0/1.2 MB 10.1 MB/s eta 0:00:01\n",
            "   ---------------------------------- ----- 1.0/1.2 MB 10.1 MB/s eta 0:00:01\n",
            "   ---------------------------------- ----- 1.0/1.2 MB 10.1 MB/s eta 0:00:01\n",
            "   ---------------------------------- ----- 1.0/1.2 MB 10.1 MB/s eta 0:00:01\n",
            "   ---------------------------------- ----- 1.0/1.2 MB 10.1 MB/s eta 0:00:01\n",
            "   ---------------------------------- ----- 1.0/1.2 MB 10.1 MB/s eta 0:00:01\n",
            "   ---------------------------------- ----- 1.0/1.2 MB 10.1 MB/s eta 0:00:01\n",
            "   ---------------------------------- ----- 1.0/1.2 MB 10.1 MB/s eta 0:00:01\n",
            "   ---------------------------------------- 1.2/1.2 MB 505.1 kB/s eta 0:00:00\n",
            "Downloading PyOpenGL-3.1.9-py3-none-any.whl (3.2 MB)\n",
            "   ---------------------------------------- 0.0/3.2 MB ? eta -:--:--\n",
            "   ----------------------- ---------------- 1.8/3.2 MB 9.1 MB/s eta 0:00:01\n",
            "   ---------------------------------------- 3.2/3.2 MB 8.5 MB/s eta 0:00:00\n",
            "Downloading python_json_logger-3.2.1-py3-none-any.whl (14 kB)\n",
            "Downloading pytz-2025.1-py2.py3-none-any.whl (507 kB)\n",
            "Downloading PyVirtualDisplay-3.0-py3-none-any.whl (15 kB)\n",
            "Downloading pywin32-308-cp311-cp311-win_amd64.whl (6.6 MB)\n",
            "   ---------------------------------------- 0.0/6.6 MB ? eta -:--:--\n",
            "   --------- ------------------------------ 1.6/6.6 MB 7.0 MB/s eta 0:00:01\n",
            "   -------------------- ------------------- 3.4/6.6 MB 8.0 MB/s eta 0:00:01\n",
            "   ----------------------- ---------------- 3.9/6.6 MB 8.1 MB/s eta 0:00:01\n",
            "   ---------------------------- ----------- 4.7/6.6 MB 5.4 MB/s eta 0:00:01\n",
            "   ------------------------------------ --- 6.0/6.6 MB 5.5 MB/s eta 0:00:01\n",
            "   ---------------------------------------- 6.6/6.6 MB 5.4 MB/s eta 0:00:00\n",
            "Downloading pywinpty-2.0.14-cp311-none-win_amd64.whl (1.4 MB)\n",
            "   ---------------------------------------- 0.0/1.4 MB ? eta -:--:--\n",
            "   ---------------------- ----------------- 0.8/1.4 MB 4.2 MB/s eta 0:00:01\n",
            "   ---------------------------------------- 1.4/1.4 MB 3.6 MB/s eta 0:00:00\n",
            "Downloading PyYAML-6.0.2-cp311-cp311-win_amd64.whl (161 kB)\n",
            "Downloading pyzmq-26.2.1-cp311-cp311-win_amd64.whl (648 kB)\n",
            "   ---------------------------------------- 0.0/648.1 kB ? eta -:--:--\n",
            "   --------------------------------------- 648.1/648.1 kB 12.1 MB/s eta 0:00:00\n",
            "Downloading referencing-0.35.1-py3-none-any.whl (26 kB)\n",
            "Downloading requests-2.32.3-py3-none-any.whl (64 kB)\n",
            "Downloading rpds_py-0.20.1-cp311-none-win_amd64.whl (218 kB)\n",
            "Downloading Send2Trash-1.8.3-py3-none-any.whl (18 kB)\n",
            "Downloading six-1.17.0-py2.py3-none-any.whl (11 kB)\n",
            "Downloading soupsieve-2.6-py3-none-any.whl (36 kB)\n",
            "Downloading tomli-2.2.1-cp311-cp311-win_amd64.whl (108 kB)\n",
            "Downloading tornado-6.4.2-cp38-abi3-win_amd64.whl (438 kB)\n",
            "Downloading traitlets-5.14.3-py3-none-any.whl (85 kB)\n",
            "Downloading typing_extensions-4.12.2-py3-none-any.whl (37 kB)\n",
            "Downloading urllib3-2.2.3-py3-none-any.whl (126 kB)\n",
            "Downloading websocket_client-1.8.0-py3-none-any.whl (58 kB)\n",
            "Downloading zipp-3.20.2-py3-none-any.whl (9.2 kB)\n",
            "Downloading webcolors-24.11.1-py3-none-any.whl (14 kB)\n",
            "Building wheels for collected packages: gym\n",
            "  Building wheel for gym (pyproject.toml): started\n",
            "  Building wheel for gym (pyproject.toml): finished with status 'done'\n",
            "  Created wheel for gym: filename=gym-0.26.2-py3-none-any.whl size=827706 sha256=a408adb35315c84bb473bc2f2b3c5baf999fe3e8f488e0f74bfc222aedb80c53\n",
            "  Stored in directory: c:\\users\\user\\appdata\\local\\pip\\cache\\wheels\\1c\\77\\9e\\9af5470201a0b0543937933ee99ba884cd237d2faefe8f4d37\n",
            "Successfully built gym\n",
            "Installing collected packages: pywin32, PyVirtualDisplay, pytz, PyOpenGL, pure-eval, pickleshare, gym-notices, fastjsonschema, ez-setup, backcall, zipp, websocket-client, webcolors, urllib3, typing-extensions, traitlets, tornado, tomli, soupsieve, six, Send2Trash, rpds-py, pyzmq, PyYAML, pywinpty, python-json-logger, pygments, pycparser, psutil, prompt-toolkit, prometheus-client, platformdirs, pkgutil-resolve-name, parso, packaging, numpy, mistune, json5, jinja2, importlib-resources, idna, executing, exceptiongroup, debugpy, cmake, cloudpickle, charset-normalizer, certifi, babel, attrs, asttokens, requests, referencing, matplotlib-inline, jedi, importlib-metadata, httpcore, gym, cffi, beautifulsoup4, anyio, jupyter-client, ipython, httpx, jsonschema, ipykernel, nbformat, nbclient, nbconvert, jupyter-server, jupyter-lsp\n",
            "  Attempting uninstall: pywin32\n",
            "    Found existing installation: pywin32 306\n",
            "    Uninstalling pywin32-306:\n",
            "      Successfully uninstalled pywin32-306\n",
            "  Attempting uninstall: pytz\n",
            "    Found existing installation: pytz 2024.1\n",
            "    Uninstalling pytz-2024.1:\n",
            "      Successfully uninstalled pytz-2024.1\n",
            "  Attempting uninstall: pure-eval\n",
            "    Found existing installation: pure-eval 0.2.2\n",
            "    Uninstalling pure-eval-0.2.2:\n",
            "      Successfully uninstalled pure-eval-0.2.2\n",
            "  Attempting uninstall: fastjsonschema\n",
            "    Found existing installation: fastjsonschema 2.19.1\n",
            "    Uninstalling fastjsonschema-2.19.1:\n",
            "      Successfully uninstalled fastjsonschema-2.19.1\n",
            "  Attempting uninstall: websocket-client\n",
            "    Found existing installation: websocket-client 1.7.0\n",
            "    Uninstalling websocket-client-1.7.0:\n",
            "      Successfully uninstalled websocket-client-1.7.0\n",
            "  Attempting uninstall: webcolors\n",
            "    Found existing installation: webcolors 1.13\n",
            "    Uninstalling webcolors-1.13:\n",
            "      Successfully uninstalled webcolors-1.13\n",
            "  Attempting uninstall: urllib3\n",
            "    Found existing installation: urllib3 2.2.1\n",
            "    Uninstalling urllib3-2.2.1:\n",
            "      Successfully uninstalled urllib3-2.2.1\n",
            "  Attempting uninstall: typing-extensions\n",
            "    Found existing installation: typing_extensions 4.10.0\n",
            "    Uninstalling typing_extensions-4.10.0:\n",
            "      Successfully uninstalled typing_extensions-4.10.0\n",
            "  Attempting uninstall: traitlets\n",
            "    Found existing installation: traitlets 5.14.2\n",
            "    Uninstalling traitlets-5.14.2:\n",
            "      Successfully uninstalled traitlets-5.14.2\n",
            "  Attempting uninstall: tornado\n",
            "    Found existing installation: tornado 6.4\n",
            "    Uninstalling tornado-6.4:\n",
            "      Successfully uninstalled tornado-6.4\n",
            "  Attempting uninstall: soupsieve\n",
            "    Found existing installation: soupsieve 2.5\n",
            "    Uninstalling soupsieve-2.5:\n",
            "      Successfully uninstalled soupsieve-2.5\n",
            "  Attempting uninstall: six\n",
            "    Found existing installation: six 1.16.0\n",
            "    Uninstalling six-1.16.0:\n",
            "      Successfully uninstalled six-1.16.0\n",
            "  Attempting uninstall: Send2Trash\n",
            "    Found existing installation: Send2Trash 1.8.2\n",
            "    Uninstalling Send2Trash-1.8.2:\n",
            "      Successfully uninstalled Send2Trash-1.8.2\n",
            "  Attempting uninstall: rpds-py\n",
            "    Found existing installation: rpds-py 0.18.0\n",
            "    Uninstalling rpds-py-0.18.0:\n",
            "      Successfully uninstalled rpds-py-0.18.0\n",
            "  Attempting uninstall: pyzmq\n",
            "    Found existing installation: pyzmq 25.1.2\n",
            "    Uninstalling pyzmq-25.1.2:\n",
            "      Successfully uninstalled pyzmq-25.1.2\n",
            "  Attempting uninstall: PyYAML\n",
            "    Found existing installation: PyYAML 6.0.1\n",
            "    Uninstalling PyYAML-6.0.1:\n",
            "      Successfully uninstalled PyYAML-6.0.1\n",
            "  Attempting uninstall: pywinpty\n",
            "    Found existing installation: pywinpty 2.0.13\n",
            "    Uninstalling pywinpty-2.0.13:\n",
            "      Successfully uninstalled pywinpty-2.0.13\n",
            "  Attempting uninstall: python-json-logger\n",
            "    Found existing installation: python-json-logger 2.0.7\n",
            "    Uninstalling python-json-logger-2.0.7:\n",
            "      Successfully uninstalled python-json-logger-2.0.7\n",
            "  Attempting uninstall: pygments\n",
            "    Found existing installation: Pygments 2.17.2\n",
            "    Uninstalling Pygments-2.17.2:\n",
            "      Successfully uninstalled Pygments-2.17.2\n",
            "  Attempting uninstall: pycparser\n",
            "    Found existing installation: pycparser 2.21\n",
            "    Uninstalling pycparser-2.21:\n",
            "      Successfully uninstalled pycparser-2.21\n",
            "  Attempting uninstall: psutil\n",
            "    Found existing installation: psutil 5.9.8\n",
            "    Uninstalling psutil-5.9.8:\n",
            "      Successfully uninstalled psutil-5.9.8\n",
            "  Attempting uninstall: prompt-toolkit\n",
            "    Found existing installation: prompt-toolkit 3.0.43\n",
            "    Uninstalling prompt-toolkit-3.0.43:\n",
            "      Successfully uninstalled prompt-toolkit-3.0.43\n",
            "  Attempting uninstall: prometheus-client\n",
            "    Found existing installation: prometheus_client 0.20.0\n",
            "    Uninstalling prometheus_client-0.20.0:\n",
            "      Successfully uninstalled prometheus_client-0.20.0\n",
            "  Attempting uninstall: platformdirs\n",
            "    Found existing installation: platformdirs 4.2.0\n",
            "    Uninstalling platformdirs-4.2.0:\n",
            "      Successfully uninstalled platformdirs-4.2.0\n",
            "  Attempting uninstall: parso\n",
            "    Found existing installation: parso 0.8.3\n",
            "    Uninstalling parso-0.8.3:\n",
            "      Successfully uninstalled parso-0.8.3\n",
            "  Attempting uninstall: packaging\n",
            "    Found existing installation: packaging 24.0\n",
            "    Uninstalling packaging-24.0:\n",
            "      Successfully uninstalled packaging-24.0\n",
            "  Attempting uninstall: numpy\n",
            "    Found existing installation: numpy 1.26.4\n",
            "    Uninstalling numpy-1.26.4:\n",
            "      Successfully uninstalled numpy-1.26.4\n",
            "  Attempting uninstall: mistune\n",
            "    Found existing installation: mistune 3.0.2\n",
            "    Uninstalling mistune-3.0.2:\n",
            "      Successfully uninstalled mistune-3.0.2\n",
            "  Attempting uninstall: json5\n",
            "    Found existing installation: json5 0.9.24\n",
            "    Uninstalling json5-0.9.24:\n",
            "      Successfully uninstalled json5-0.9.24\n",
            "  Attempting uninstall: jinja2\n",
            "    Found existing installation: Jinja2 3.1.3\n",
            "    Uninstalling Jinja2-3.1.3:\n",
            "      Successfully uninstalled Jinja2-3.1.3\n",
            "  Attempting uninstall: importlib-resources\n",
            "    Found existing installation: importlib_resources 6.4.0\n",
            "    Uninstalling importlib_resources-6.4.0:\n",
            "      Successfully uninstalled importlib_resources-6.4.0\n",
            "  Attempting uninstall: idna\n",
            "    Found existing installation: idna 3.6\n",
            "    Uninstalling idna-3.6:\n",
            "      Successfully uninstalled idna-3.6\n",
            "  Attempting uninstall: executing\n",
            "    Found existing installation: executing 2.0.1\n",
            "    Uninstalling executing-2.0.1:\n",
            "      Successfully uninstalled executing-2.0.1\n",
            "  Attempting uninstall: debugpy\n",
            "    Found existing installation: debugpy 1.8.1\n",
            "    Uninstalling debugpy-1.8.1:\n",
            "      Successfully uninstalled debugpy-1.8.1\n",
            "  Attempting uninstall: charset-normalizer\n",
            "    Found existing installation: charset-normalizer 3.3.2\n",
            "    Uninstalling charset-normalizer-3.3.2:\n",
            "      Successfully uninstalled charset-normalizer-3.3.2\n",
            "  Attempting uninstall: certifi\n",
            "    Found existing installation: certifi 2024.2.2\n",
            "    Uninstalling certifi-2024.2.2:\n",
            "      Successfully uninstalled certifi-2024.2.2\n",
            "  Attempting uninstall: babel\n",
            "    Found existing installation: Babel 2.14.0\n",
            "    Uninstalling Babel-2.14.0:\n",
            "      Successfully uninstalled Babel-2.14.0\n",
            "  Attempting uninstall: attrs\n",
            "    Found existing installation: attrs 23.2.0\n",
            "    Uninstalling attrs-23.2.0:\n",
            "      Successfully uninstalled attrs-23.2.0\n",
            "  Attempting uninstall: asttokens\n",
            "    Found existing installation: asttokens 2.4.1\n",
            "    Uninstalling asttokens-2.4.1:\n",
            "      Successfully uninstalled asttokens-2.4.1\n",
            "  Attempting uninstall: requests\n",
            "    Found existing installation: requests 2.31.0\n",
            "    Uninstalling requests-2.31.0:\n",
            "      Successfully uninstalled requests-2.31.0\n",
            "  Attempting uninstall: referencing\n",
            "    Found existing installation: referencing 0.34.0\n",
            "    Uninstalling referencing-0.34.0:\n",
            "      Successfully uninstalled referencing-0.34.0\n",
            "  Attempting uninstall: matplotlib-inline\n",
            "    Found existing installation: matplotlib-inline 0.1.6\n",
            "    Uninstalling matplotlib-inline-0.1.6:\n",
            "      Successfully uninstalled matplotlib-inline-0.1.6\n",
            "  Attempting uninstall: jedi\n",
            "    Found existing installation: jedi 0.19.1\n",
            "    Uninstalling jedi-0.19.1:\n",
            "      Successfully uninstalled jedi-0.19.1\n",
            "  Attempting uninstall: httpcore\n",
            "    Found existing installation: httpcore 1.0.4\n",
            "    Uninstalling httpcore-1.0.4:\n",
            "      Successfully uninstalled httpcore-1.0.4\n",
            "  Attempting uninstall: cffi\n",
            "    Found existing installation: cffi 1.16.0\n",
            "    Uninstalling cffi-1.16.0:\n",
            "      Successfully uninstalled cffi-1.16.0\n",
            "  Attempting uninstall: beautifulsoup4\n",
            "    Found existing installation: beautifulsoup4 4.12.3\n",
            "    Uninstalling beautifulsoup4-4.12.3:\n",
            "      Successfully uninstalled beautifulsoup4-4.12.3\n",
            "  Attempting uninstall: anyio\n",
            "    Found existing installation: anyio 4.3.0\n",
            "    Uninstalling anyio-4.3.0:\n",
            "      Successfully uninstalled anyio-4.3.0\n",
            "  Attempting uninstall: jupyter-client\n",
            "    Found existing installation: jupyter_client 8.6.1\n",
            "    Uninstalling jupyter_client-8.6.1:\n",
            "      Successfully uninstalled jupyter_client-8.6.1\n",
            "  Attempting uninstall: ipython\n",
            "    Found existing installation: ipython 8.22.2\n",
            "    Uninstalling ipython-8.22.2:\n",
            "      Successfully uninstalled ipython-8.22.2\n",
            "  Attempting uninstall: httpx\n",
            "    Found existing installation: httpx 0.27.0\n",
            "    Uninstalling httpx-0.27.0:\n",
            "      Successfully uninstalled httpx-0.27.0\n",
            "  Attempting uninstall: jsonschema\n",
            "    Found existing installation: jsonschema 4.21.1\n",
            "    Uninstalling jsonschema-4.21.1:\n",
            "      Successfully uninstalled jsonschema-4.21.1\n",
            "  Attempting uninstall: ipykernel\n",
            "    Found existing installation: ipykernel 6.29.3\n",
            "    Uninstalling ipykernel-6.29.3:\n",
            "      Successfully uninstalled ipykernel-6.29.3\n",
            "  Attempting uninstall: nbformat\n",
            "    Found existing installation: nbformat 5.10.3\n",
            "    Uninstalling nbformat-5.10.3:\n",
            "      Successfully uninstalled nbformat-5.10.3\n",
            "  Attempting uninstall: nbclient\n",
            "    Found existing installation: nbclient 0.10.0\n",
            "    Uninstalling nbclient-0.10.0:\n",
            "      Successfully uninstalled nbclient-0.10.0\n",
            "  Attempting uninstall: nbconvert\n",
            "    Found existing installation: nbconvert 7.16.3\n",
            "    Uninstalling nbconvert-7.16.3:\n",
            "      Successfully uninstalled nbconvert-7.16.3\n",
            "  Attempting uninstall: jupyter-server\n",
            "    Found existing installation: jupyter_server 2.13.0\n",
            "    Uninstalling jupyter_server-2.13.0:\n",
            "      Successfully uninstalled jupyter_server-2.13.0\n",
            "  Attempting uninstall: jupyter-lsp\n",
            "    Found existing installation: jupyter-lsp 2.2.4\n",
            "    Uninstalling jupyter-lsp-2.2.4:\n",
            "      Successfully uninstalled jupyter-lsp-2.2.4\n",
            "Successfully installed PyOpenGL-3.1.9 PyVirtualDisplay-3.0 PyYAML-6.0.2 Send2Trash-1.8.3 anyio-4.5.2 asttokens-3.0.0 attrs-25.1.0 babel-2.17.0 backcall-0.2.0 beautifulsoup4-4.13.3 certifi-2025.1.31 cffi-1.17.1 charset-normalizer-3.4.1 cloudpickle-3.1.1 cmake-3.31.4 debugpy-1.8.12 exceptiongroup-1.2.2 executing-2.2.0 ez-setup-0.9 fastjsonschema-2.21.1 gym-0.26.2 gym-notices-0.0.8 httpcore-1.0.7 httpx-0.28.1 idna-3.10 importlib-metadata-8.5.0 importlib-resources-6.4.5 ipykernel-6.29.5 ipython-8.12.3 jedi-0.19.2 jinja2-3.1.5 json5-0.10.0 jsonschema-4.23.0 jupyter-client-8.6.3 jupyter-lsp-2.2.5 jupyter-server-2.14.2 matplotlib-inline-0.1.7 mistune-3.1.1 nbclient-0.10.1 nbconvert-7.16.6 nbformat-5.10.4 numpy-1.24.4 packaging-24.2 parso-0.8.4 pickleshare-0.7.5 pkgutil-resolve-name-1.3.10 platformdirs-4.3.6 prometheus-client-0.21.1 prompt-toolkit-3.0.50 psutil-7.0.0 pure-eval-0.2.3 pycparser-2.22 pygments-2.19.1 python-json-logger-3.2.1 pytz-2025.1 pywin32-308 pywinpty-2.0.14 pyzmq-26.2.1 referencing-0.35.1 requests-2.32.3 rpds-py-0.20.1 six-1.17.0 soupsieve-2.6 tomli-2.2.1 tornado-6.4.2 traitlets-5.14.3 typing-extensions-4.12.2 urllib3-2.2.3 webcolors-24.11.1 websocket-client-1.8.0 zipp-3.20.2\n"
          ]
        },
        {
          "name": "stderr",
          "output_type": "stream",
          "text": [
            "  WARNING: Failed to remove contents in a temporary directory 'C:\\Users\\User\\AppData\\Local\\Programs\\Python\\Python311\\Lib\\site-packages\\~ornado'.\n",
            "  You can safely remove it manually.\n",
            "  WARNING: Failed to remove contents in a temporary directory 'C:\\Users\\User\\AppData\\Local\\Programs\\Python\\Python311\\Lib\\site-packages\\~yzmq.libs'.\n",
            "  You can safely remove it manually.\n",
            "  WARNING: Failed to remove contents in a temporary directory 'C:\\Users\\User\\AppData\\Local\\Programs\\Python\\Python311\\Lib\\site-packages\\~mq'.\n",
            "  You can safely remove it manually.\n",
            "  WARNING: Failed to remove contents in a temporary directory 'C:\\Users\\User\\AppData\\Local\\Programs\\Python\\Python311\\Lib\\site-packages\\~sutil'.\n",
            "  You can safely remove it manually.\n",
            "  WARNING: Failed to remove contents in a temporary directory 'C:\\Users\\User\\AppData\\Local\\Programs\\Python\\Python311\\Lib\\site-packages\\~ebugpy'.\n",
            "  You can safely remove it manually.\n",
            "\n",
            "[notice] A new release of pip is available: 24.2 -> 25.0.1\n",
            "[notice] To update, run: python.exe -m pip install --upgrade pip\n"
          ]
        }
      ],
      "source": [
        "!pip install -r requirements.txt"
      ]
    },
    {
      "cell_type": "markdown",
      "metadata": {
        "id": "RwKbYeTgbaTA"
      },
      "source": [
        "## Importing dependencies and define helper functions"
      ]
    },
    {
      "cell_type": "code",
      "execution_count": null,
      "metadata": {
        "id": "j6KpgCLGYWmj"
      },
      "outputs": [],
      "source": [
        "import gym\n",
        "from gym import logger as gymlogger\n",
        "from gym.wrappers import RecordVideo\n",
        "gymlogger.set_level(40) #error only\n",
        "import tensorflow as tf\n",
        "import numpy as np\n",
        "import random\n",
        "import matplotlib\n",
        "import matplotlib.pyplot as plt\n",
        "%matplotlib inline\n",
        "import math\n",
        "import glob\n",
        "import io\n",
        "import base64\n",
        "from IPython.display import HTML\n",
        "from IPython import display as ipythondisplay\n"
      ]
    },
    {
      "cell_type": "code",
      "execution_count": 29,
      "metadata": {},
      "outputs": [],
      "source": [
        "def show_video():\n",
        "  mp4list = glob.glob('video/*.mp4')\n",
        "  if len(mp4list) > 0:\n",
        "    mp4 = mp4list[0]\n",
        "    video = io.open(mp4, 'r+b').read()\n",
        "    encoded = base64.b64encode(video)\n",
        "    ipythondisplay.display(HTML(data='''<video alt=\"test\" autoplay \n",
        "                loop controls style=\"height: 400px;\">\n",
        "                <source src=\"data:video/mp4;base64,{0}\" type=\"video/mp4\" />\n",
        "             </video>'''.format(encoded.decode('ascii'))))\n",
        "  else: \n",
        "    print(\"Could not find video\")"
      ]
    },
    {
      "cell_type": "markdown",
      "metadata": {
        "id": "ehbqP9CXbmo7"
      },
      "source": [
        "## Tutorial: Loading CartPole environment"
      ]
    },
    {
      "cell_type": "code",
      "execution_count": 5,
      "metadata": {
        "id": "Go12dH4qbwBy"
      },
      "outputs": [],
      "source": [
        "env = gym.make(\"CartPole-v1\")"
      ]
    },
    {
      "cell_type": "markdown",
      "metadata": {
        "id": "9XZ9g3xrcAXE"
      },
      "source": [
        "We can check the action and observation space of this environment. Discrete(2) means that there are two valid discrete actions: 0 & 1."
      ]
    },
    {
      "cell_type": "code",
      "execution_count": 7,
      "metadata": {
        "colab": {
          "base_uri": "https://localhost:8080/"
        },
        "id": "ytxvVmLdcRyw",
        "outputId": "1ce07099-492b-4126-a792-8ff12d79c2db"
      },
      "outputs": [
        {
          "name": "stdout",
          "output_type": "stream",
          "text": [
            "Discrete(2)\n"
          ]
        }
      ],
      "source": [
        "print(env.action_space)"
      ]
    },
    {
      "cell_type": "markdown",
      "metadata": {
        "id": "pVXGWi_Ncfg-"
      },
      "source": [
        "The observation space is given below. The first two arrays define the min and max values of the 4 observed values, corresponding to cart position, velocity and pole angle, angular velocity."
      ]
    },
    {
      "cell_type": "code",
      "execution_count": 8,
      "metadata": {
        "colab": {
          "base_uri": "https://localhost:8080/"
        },
        "id": "DyqHr9I5cdkX",
        "outputId": "369a0733-e7c0-4bca-b427-5e1c603ff074"
      },
      "outputs": [
        {
          "name": "stdout",
          "output_type": "stream",
          "text": [
            "Box([-4.8000002e+00 -3.4028235e+38 -4.1887903e-01 -3.4028235e+38], [4.8000002e+00 3.4028235e+38 4.1887903e-01 3.4028235e+38], (4,), float32)\n"
          ]
        }
      ],
      "source": [
        "print(env.observation_space)"
      ]
    },
    {
      "cell_type": "markdown",
      "metadata": {
        "id": "HFOdaU2Gdyg0"
      },
      "source": [
        "We call each round of the pole-balancing game an \"episode\". At the start of each episode, make sure the environment is reset, which chooses a random initial state, e.g., pole slightly tilted to the right. This initialization can be achieved by the code below, which returns the observation of the initial state."
      ]
    },
    {
      "cell_type": "code",
      "execution_count": 9,
      "metadata": {
        "colab": {
          "base_uri": "https://localhost:8080/"
        },
        "id": "VMr6qAqxdOsm",
        "outputId": "0e35ee3b-15d0-4e1f-926c-194a5a43f830"
      },
      "outputs": [
        {
          "name": "stdout",
          "output_type": "stream",
          "text": [
            "Initial observations: (array([ 0.01467477,  0.02104288, -0.0194052 ,  0.03445613], dtype=float32), {})\n"
          ]
        }
      ],
      "source": [
        "observation = env.reset()\n",
        "print(\"Initial observations:\", observation)"
      ]
    },
    {
      "cell_type": "markdown",
      "metadata": {
        "id": "qnG2QdfbeZrI"
      },
      "source": [
        "For the CartPole environment, there are two possible actions: 0 for pushing to the left and 1 for pushing to the right. For example, we can push the cart to the left using code below, which returns the new observation, the current reward, an indicator of whether the game ends, and some additional information (not used in this project). For CartPole, the game ends when the pole is significantly tilted or you manage to balance the pole for 500 steps. You get exactly 1 reward for each step before the game ends (i.e., max cumulative reward is 500)."
      ]
    },
    {
      "cell_type": "code",
      "execution_count": 16,
      "metadata": {
        "colab": {
          "base_uri": "https://localhost:8080/"
        },
        "id": "MmfMDvyYdWGk",
        "outputId": "fa12ffd8-6707-4cbc-fb86-aef8484d5d17"
      },
      "outputs": [
        {
          "name": "stdout",
          "output_type": "stream",
          "text": [
            "New observations after choosing action 0: [-0.06427389 -1.3455099   0.10716718  2.1066406 ]\n",
            "Reward for this step: 1.0\n",
            "Is this round done? False\n"
          ]
        }
      ],
      "source": [
        "observation, reward, terminated, truncated, info = env.step(0)\n",
        "done = terminated or truncated  # Combine both termination conditions\n",
        "\n",
        "print(\"New observations after choosing action 0:\", observation)\n",
        "print(\"Reward for this step:\", reward)\n",
        "print(\"Is this round done?\", done)"
      ]
    },
    {
      "cell_type": "markdown",
      "metadata": {
        "id": "tj0zCh59fhBb"
      },
      "source": [
        "Now we can play a full round of the game using a naive strategy (always choosing action 0), and show the cumulative reward in the round. Note that reward returned by env.step(*) corresponds to the reward for current step. So we have to accumulate the reward for each step. Clearly, the naive strategy performs poorly by surviving only a dozen of steps."
      ]
    },
    {
      "cell_type": "code",
      "execution_count": 18,
      "metadata": {
        "colab": {
          "base_uri": "https://localhost:8080/"
        },
        "id": "AVucQVRwf6Jm",
        "outputId": "72f0b7d5-7cb5-4e37-da3d-997c1bfb4641"
      },
      "outputs": [
        {
          "name": "stdout",
          "output_type": "stream",
          "text": [
            "Cumulative reward for this round: 9.0\n"
          ]
        }
      ],
      "source": [
        "observation = env.reset()\n",
        "cumulative_reward = 0\n",
        "done = False\n",
        "while not done:\n",
        "    observation, reward, terminated, truncated, info = env.step(0)\n",
        "    done = terminated or truncated\n",
        "    cumulative_reward += reward\n",
        "print(\"Cumulative reward for this round:\", cumulative_reward)"
      ]
    },
    {
      "cell_type": "markdown",
      "metadata": {
        "id": "2oIzK9SzhlWN"
      },
      "source": [
        "## Task 1: Development of an RL agent"
      ]
    },
    {
      "cell_type": "markdown",
      "metadata": {
        "id": "Cc6_e5c_huiq"
      },
      "source": [
        "An example of a naive agent is given below, which randomly chooses an action regardless of the observation:"
      ]
    },
    {
      "cell_type": "code",
      "execution_count": 19,
      "metadata": {
        "id": "Hk-M4QEfh6l5"
      },
      "outputs": [],
      "source": [
        "def rand_policy_agent(observation):\n",
        "    return random.randint(0, 1)"
      ]
    },
    {
      "cell_type": "markdown",
      "metadata": {
        "id": "RAi7KKwNiegR"
      },
      "source": [
        "For Task 1, we can show the observation and chosen action below:"
      ]
    },
    {
      "cell_type": "code",
      "execution_count": 20,
      "metadata": {
        "colab": {
          "base_uri": "https://localhost:8080/"
        },
        "id": "ae2ia-vUiNKJ",
        "outputId": "22c614ca-5ba0-43d3-d27a-d79073b5d04e"
      },
      "outputs": [
        {
          "name": "stdout",
          "output_type": "stream",
          "text": [
            "Observation: (array([-0.01045008,  0.00157457,  0.02306251,  0.00916809], dtype=float32), {})\n",
            "Chosen action: 1\n"
          ]
        }
      ],
      "source": [
        "observation = env.reset()\n",
        "action = rand_policy_agent(observation)\n",
        "print(\"Observation:\", observation)\n",
        "print(\"Chosen action:\", action)"
      ]
    },
    {
      "cell_type": "markdown",
      "metadata": {
        "id": "-XtIQ0Rti1gm"
      },
      "source": [
        "## Task 2: Demonstrate the effectiveness of the RL agent"
      ]
    },
    {
      "cell_type": "markdown",
      "metadata": {
        "id": "djBEShf0kGI4"
      },
      "source": [
        "For this task, use the agent developed in Task 1 to play the game for 100 episodes (refer to tutorial for how to play a round), record the cumulative reward for each round, and plot the reward for each round. A sample plotting code is given below. Note that you must include code to play for 100 episodes and use the code to obtain round_results for plotting. DO NOT record the round results in advance and paste the results to the notebook."
      ]
    },
    {
      "cell_type": "code",
      "execution_count": 21,
      "metadata": {
        "colab": {
          "base_uri": "https://localhost:8080/",
          "height": 295
        },
        "id": "RZrCKywQi6CE",
        "outputId": "e304ecc5-14b6-4cf1-831b-dcb42eb46351"
      },
      "outputs": [
        {
          "data": {
            "image/png": "[encoded data removed]",
            "text/plain": [
              "<Figure size 640x480 with 1 Axes>"
            ]
          },
          "metadata": {},
          "output_type": "display_data"
        }
      ],
      "source": [
        "episode_results = np.random.randint(150, 250, size=100)\n",
        "plt.plot(episode_results)\n",
        "plt.title('Cumulative reward for each episode')\n",
        "plt.ylabel('Cumulative reward')\n",
        "plt.xlabel('episode')\n",
        "plt.show()"
      ]
    },
    {
      "cell_type": "markdown",
      "metadata": {
        "id": "XndSYH7wlvn7"
      },
      "source": [
        "Print the average reward over the 100 episodes."
      ]
    },
    {
      "cell_type": "code",
      "execution_count": 22,
      "metadata": {
        "colab": {
          "base_uri": "https://localhost:8080/"
        },
        "id": "pOiOp9OYlo5Y",
        "outputId": "7a02ba7b-ff17-41f2-aa7f-eb50d49a83fd"
      },
      "outputs": [
        {
          "name": "stdout",
          "output_type": "stream",
          "text": [
            "Average cumulative reward: 198.82\n",
            "Is my agent good enough? True\n"
          ]
        }
      ],
      "source": [
        "print(\"Average cumulative reward:\", episode_results.mean())\n",
        "print(\"Is my agent good enough?\", episode_results.mean() > 195)"
      ]
    },
    {
      "cell_type": "markdown",
      "metadata": {
        "id": "Yg0DCT38lFA6"
      },
      "source": [
        "## Task 3: Render one episode played by the agent"
      ]
    },
    {
      "cell_type": "markdown",
      "metadata": {
        "id": "vx1awMr9lc_w"
      },
      "source": [
        "Plug your agent to the code below to obtain rendered result."
      ]
    },
    {
      "cell_type": "code",
      "execution_count": 30,
      "metadata": {
        "colab": {
          "base_uri": "https://localhost:8080/",
          "height": 421
        },
        "id": "LYyavfbIa47D",
        "outputId": "10c2f1e7-f3b9-4975-ed25-7c380966a56c"
      },
      "outputs": [
        {
          "name": "stdout",
          "output_type": "stream",
          "text": [
            "Could not find video\n"
          ]
        }
      ],
      "source": [
        "env = RecordVideo(gym.make(\"CartPole-v1\"), \"./video\")\n",
        "observation = env.reset()\n",
        "while True:\n",
        "    env.render()\n",
        "    #your agent goes here\n",
        "    action = rand_policy_agent(observation)\n",
        "    observation, reward, terminated, truncated, info = env.step(0)\n",
        "    done = terminated or truncated \n",
        "    if done: \n",
        "      break;    \n",
        "env.close()\n",
        "show_video()"
      ]
    }
  ],
  "metadata": {
    "colab": {
      "authorship_tag": "ABX9TyNczA+lJQOKjOo4XtzYjWQc",
      "include_colab_link": true,
      "provenance": []
    },
    "kernelspec": {
      "display_name": "Python (.venv)",
      "language": "python",
      "name": ".venv"
    },
    "language_info": {
      "codemirror_mode": {
        "name": "ipython",
        "version": 3
      },
      "file_extension": ".py",
      "mimetype": "text/x-python",
      "name": "python",
      "nbconvert_exporter": "python",
      "pygments_lexer": "ipython3",
      "version": "3.11.4"
    }
  },
  "nbformat": 4,
  "nbformat_minor": 0
}
